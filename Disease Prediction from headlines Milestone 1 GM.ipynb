{
 "cells": [
  {
   "cell_type": "markdown",
   "id": "aae86e05",
   "metadata": {},
   "source": [
    "# Notes about this work\n",
    "## This is a combination of my own code and the solution file\n",
    "I enjoyed this first milestone although I found working with the data library slightly annoying at first - looking ahead at the second milestone, the geo-location data should present less of a problem \n",
    "\n",
    "I also found getting my head around REGEX took a few attempts and some good youtube videos \n",
    "\n",
    "OVerall this milestone was difficult but with the solution I felt that I have learned a good deal \n",
    "this includes \n",
    " - creating dicts and lists with one line rather than creating and appending on seperate lines\n",
    " - using the geonames library\n",
    " - unidecode\n",
    " - None if not, I can see this being very usefull in the future"
   ]
  },
  {
   "cell_type": "code",
   "execution_count": 1,
   "id": "9cc0c171",
   "metadata": {},
   "outputs": [
    {
     "name": "stdout",
     "output_type": "stream",
     "text": [
      "Zika Outbreak Hits Miami\n",
      "\n"
     ]
    }
   ],
   "source": [
    "#loading in the data\n",
    "with open('headlines.txt') as f:\n",
    "    data = f.readlines()\n",
    "print(data[0])"
   ]
  },
  {
   "cell_type": "code",
   "execution_count": 2,
   "id": "7ef9648b",
   "metadata": {},
   "outputs": [
    {
     "name": "stdout",
     "output_type": "stream",
     "text": [
      "dict_keys(['AF', 'AS', 'EU', 'NA', 'OC', 'SA', 'AN'])\n",
      "the first city in the list is Andorra la Vella, and the first country is Andorra\n"
     ]
    }
   ],
   "source": [
    "#loading the data from the library \n",
    "import geonamescache\n",
    "##----------------exploring the dataset\n",
    "gc = geonamescache.GeonamesCache()\n",
    "#dict_keys(['AF', 'AS', 'EU', 'NA', 'OC', 'SA', 'AN'])\n",
    "continents = gc.get_continents()\n",
    "print(continents.keys())\n",
    "#-----------------------------\n",
    "##loading in the data\n",
    "cities = [city['name'] for city in gc.get_cities().values()]\n",
    "countries = [country['name'] for country in gc.get_countries().values()]\n",
    "print(f'the first city in the list is {cities[0]}, and the first country is {countries[0]}' )"
   ]
  },
  {
   "cell_type": "code",
   "execution_count": 3,
   "id": "c6088df3",
   "metadata": {},
   "outputs": [],
   "source": [
    "#removing accent marks - managed to figure this one out with the same stackoverflow link as the one used in the solution \n",
    "#although I did not consider using a dict \n",
    "\n",
    "import unidecode\n",
    "\n",
    "country_accent_mapping = {\n",
    "    unidecode.unidecode(country): country for country in countries\n",
    "}\n",
    "\n",
    "city_accent_mapping = {\n",
    "    unidecode.unidecode(city): city for city in cities\n",
    "}"
   ]
  },
  {
   "cell_type": "code",
   "execution_count": 4,
   "id": "9448729f",
   "metadata": {},
   "outputs": [
    {
     "name": "stdout",
     "output_type": "stream",
     "text": [
      "There are 23151 cities to look through.\n",
      "There are 252 countries to look through.\n"
     ]
    }
   ],
   "source": [
    "# Create list of cities and countries\n",
    "unaccented_cities = list(city_accent_mapping.keys())\n",
    "unaccented_countries = set(country_accent_mapping.keys())\n",
    "#--help taken from the solution\n",
    "print(f\"There are {len(unaccented_cities)} cities to look through.\")\n",
    "print(f\"There are {len(unaccented_countries)} countries to look through.\")"
   ]
  },
  {
   "cell_type": "code",
   "execution_count": 5,
   "id": "1450ba85",
   "metadata": {},
   "outputs": [
    {
     "data": {
      "text/plain": [
       "['South Georgia and the South Sandwich Islands',\n",
       " 'United States Minor Outlying Islands']"
      ]
     },
     "execution_count": 5,
     "metadata": {},
     "output_type": "execute_result"
    }
   ],
   "source": [
    "#ordering the cities and countries \n",
    "unaccented_cities = sorted(unaccented_cities, key=lambda x: len(x), reverse=True)\n",
    "unaccented_cities[:2]\n",
    "unaccented_countries = sorted(unaccented_countries, key=lambda x: len(x), reverse=True)\n",
    "unaccented_countries[:2]"
   ]
  },
  {
   "cell_type": "code",
   "execution_count": 6,
   "id": "9f4e2d76",
   "metadata": {},
   "outputs": [
    {
     "data": {
      "text/plain": [
       "\"Nacional\\\\b|\\\\bAmpliacion San Mateo (Colonia Solidaridad)\\\\b|\\\\bLicenciado Benito Juarez (Campo Gobierno)\\\\b|\\\\bSant Pere, Santa Caterina i La Ribera\\\\b|\\\\bPalikir - National Government Center\\\\b|\\\\bNanchital de Lazaro Cardenas del Rio\\\\b|\\\\bSan Fernando del Valle de Catamarca\\\\b|\\\\bDovercourt-Wallace Emerson-Junction\\\\b|\\\\bel Camp d'en Grassot i Gracia Nova\\\\b|\\\\bSan Martin Texmelucan de Labastida\\\\b|\\\\bWaterfront Communities-The Island\\\\b|\\\\bMount Olive-Silverstone-Jamestown\\\\b|\\\\bAcilia-Castel Fusano-Ostia Antica\\\\b|\\\\bChak One Hundred Twenty Nine Left\\\\b|\\\\bSydney Central Business District\\\\b|\\\\bWillowridge-Martingrove-Richview\\\\b|\\\\bBrandys nad Labem-Stara Boleslav\\\\b|\\\\bRosignano Solvay-Castiglioncello\\\\b|\\\\bMontecchio Maggiore-Alte Ceccato\\\\b|\\\\bDelegacion Cuajimalpa de Morelos\\\\b|\\\\bSocorro Mission Number 1 Colonia\\\\b|\\\\bl'Antiga Esquerra de l'Eixample\\\\b|\\\\bMarina di Ardea-Tor San Lorenzo\\\\b|\\\\bJardines de la Silla (Jardines)\\\\b|\\\\bParque Industrial Ciudad Mitras\\\\b|\\\\bEringate-Centennial-West Deane\\\\b|\\\\bZurich (Kreis 2) / Wollishofen\\\\b|\\\\bZurich (Kreis 6) / Unterstrass\\\\b|\\\\bZurich (Kreis 9) / Albisrieden\\\\b|\\\\bIsernhagen Farste\""
      ]
     },
     "execution_count": 6,
     "metadata": {},
     "output_type": "execute_result"
    }
   ],
   "source": [
    "import re\n",
    "#regex for whole words --https://www.youtube.com/watch?v=rhzKDrUiJVk&t=962s\n",
    "city_regex = r'\\b|\\b'.join(unaccented_cities)\n",
    "city_regex[100:1200]"
   ]
  },
  {
   "cell_type": "code",
   "execution_count": 7,
   "id": "6fd9b43f",
   "metadata": {},
   "outputs": [
    {
     "name": "stdout",
     "output_type": "stream",
     "text": [
      "Oxford tests new cure for HIV\n",
      "\n",
      "Oxford \n",
      "\n",
      "Spanish Flu Outbreak in Barcelona\n",
      "\n",
      "Barcelona \n",
      "\n",
      "Zika spreads to Lewisville\n",
      "\n",
      "Lewisville \n",
      "\n",
      "Zika case reported in Oton\n",
      "\n",
      "The CDC in Atlanta is Growing Worried\n",
      "\n",
      "Atlanta \n",
      "\n",
      "Rumors about Varicella spreading in Carlsbad have been refuted\n",
      "\n",
      "Carlsbad \n",
      "\n",
      "Hepatitis C Outbreak in Bethlehem\n",
      "\n",
      "Bethlehem \n",
      "\n",
      "Lower Hospitalization in Palm Springs after Hepatitis A Vaccine becomes Mandatory\n",
      "\n",
      "Palm Springs \n",
      "\n",
      "More Zika patients reported in Davao\n",
      "\n",
      "Davao \n",
      "\n",
      "Birmingham Residents Recieve Rabies vaccine\n",
      "\n",
      "Birmingham \n",
      "\n"
     ]
    }
   ],
   "source": [
    "#using this to test the headlines - used in the solution - I wouldn't have thought of testing either \n",
    "import numpy as np\n",
    "\n",
    "np.random.seed(5)\n",
    "\n",
    "test_headlines = np.random.choice(data, 10)\n",
    "\n",
    "for test_headline in test_headlines:\n",
    "    print(test_headline)\n",
    "    match = re.search(city_regex, test_headline)\n",
    "    if match:\n",
    "        print(match.group(0), \"\\n\")"
   ]
  },
  {
   "cell_type": "code",
   "execution_count": 8,
   "id": "ddba0304",
   "metadata": {},
   "outputs": [
    {
     "name": "stdout",
     "output_type": "stream",
     "text": [
      "Oxford tests new cure for HIV\n",
      "\n",
      "Spanish Flu Outbreak in Barcelona\n",
      "\n",
      "Zika spreads to Lewisville\n",
      "\n",
      "Zika case reported in Oton\n",
      "\n",
      "The CDC in Atlanta is Growing Worried\n",
      "\n",
      "Rumors about Varicella spreading in Carlsbad have been refuted\n",
      "\n",
      "Hepatitis C Outbreak in Bethlehem\n",
      "\n",
      "Lower Hospitalization in Palm Springs after Hepatitis A Vaccine becomes Mandatory\n",
      "\n",
      "More Zika patients reported in Davao\n",
      "\n",
      "Birmingham Residents Recieve Rabies vaccine\n",
      "\n"
     ]
    }
   ],
   "source": [
    "np.random.seed(5)\n",
    "country_regex = r'\\b|\\b'.join(unaccented_countries)\n",
    "country_regex[100:1200]\n",
    "test_headlines = np.random.choice(data, 10)\n",
    "\n",
    "for test_headline in test_headlines:\n",
    "    print(test_headline)\n",
    "    match = re.search(country_regex, test_headline)\n",
    "    if match:\n",
    "        print(match.group(0), \"\\n\")\n",
    "#as noted in the solution there are no matches found as most headliens dont have countries "
   ]
  },
  {
   "cell_type": "code",
   "execution_count": 9,
   "id": "b4fa1a2d",
   "metadata": {},
   "outputs": [
    {
     "name": "stdout",
     "output_type": "stream",
     "text": [
      "Mystery Virus Spreads in Recife, Brazil\n",
      "\n",
      "Recife\n",
      "Brazil\n"
     ]
    }
   ],
   "source": [
    "'''\n",
    "using this to test the headlines - it can be seen that if for example 4 is \n",
    "used an error occurs becuase there are no matches\n",
    "'''\n",
    "test_headline = data[3]\n",
    "print(test_headline)\n",
    "print(re.search(city_regex, test_headline).group(0))\n",
    "print(re.search(country_regex, test_headline).group(0))"
   ]
  },
  {
   "cell_type": "code",
   "execution_count": 10,
   "id": "cb0e8519",
   "metadata": {},
   "outputs": [
    {
     "data": {
      "text/plain": [
       "{'headline': 'Dallas man comes down with case of Zika\\n',\n",
       " 'countries': None,\n",
       " 'cities': 'Dallas'}"
      ]
     },
     "execution_count": 10,
     "metadata": {},
     "output_type": "execute_result"
    }
   ],
   "source": [
    "#simple function using none is nots to manage the missing values \n",
    "def find_city_and_country_in_headline(headline):\n",
    "    city_match = re.search(city_regex, headline)\n",
    "    country_match = re.search(country_regex, headline)\n",
    "    \n",
    "    cities = None if not city_match else city_match.group(0)\n",
    "    countries = None if not country_match else country_match.group(0)\n",
    "    return dict(headline=headline, countries=countries, cities=cities)\n",
    "    \n",
    "find_city_and_country_in_headline(data[4])\n"
   ]
  },
  {
   "cell_type": "code",
   "execution_count": 13,
   "id": "9b747de1",
   "metadata": {},
   "outputs": [
    {
     "data": {
      "text/plain": [
       "[{'headline': 'Dallas man comes down with case of Zika\\n',\n",
       "  'countries': None,\n",
       "  'cities': 'Dallas'},\n",
       " {'headline': 'Trinidad confirms first Zika case\\n',\n",
       "  'countries': None,\n",
       "  'cities': 'Trinidad'},\n",
       " {'headline': 'Zika Concerns are Spreading in Houston\\n',\n",
       "  'countries': None,\n",
       "  'cities': 'Houston'},\n",
       " {'headline': 'Geneve Scientists Battle to Find Cure\\n',\n",
       "  'countries': None,\n",
       "  'cities': 'Geneve'},\n",
       " {'headline': 'The CDC in Atlanta is Growing Worried\\n',\n",
       "  'countries': None,\n",
       "  'cities': 'Atlanta'},\n",
       " {'headline': 'Zika Infested Monkeys in Sao Paulo\\n',\n",
       "  'countries': None,\n",
       "  'cities': 'Sao Paulo'}]"
      ]
     },
     "execution_count": 13,
     "metadata": {},
     "output_type": "execute_result"
    }
   ],
   "source": [
    "#putting these values into a list \n",
    "all_headlines = [\n",
    "    find_city_and_country_in_headline(headlines) for headlines in data\n",
    "]\n",
    "all_headlines[4:10]"
   ]
  },
  {
   "cell_type": "code",
   "execution_count": null,
   "id": "531aca18",
   "metadata": {},
   "outputs": [],
   "source": [
    "#standard saving and importing JSON and imputing the data into a dataframe\n",
    "import json\n",
    "\n",
    "save_file = \"headline_cities_and_countries.json\"\n",
    "with open(save_file, \"w\") as fout:\n",
    "    fout.write(json.dumps(all_headlines))\n",
    "    "
   ]
  },
  {
   "cell_type": "code",
   "execution_count": 14,
   "id": "94a0b6af",
   "metadata": {},
   "outputs": [
    {
     "data": {
      "text/html": [
       "<div>\n",
       "<style scoped>\n",
       "    .dataframe tbody tr th:only-of-type {\n",
       "        vertical-align: middle;\n",
       "    }\n",
       "\n",
       "    .dataframe tbody tr th {\n",
       "        vertical-align: top;\n",
       "    }\n",
       "\n",
       "    .dataframe thead th {\n",
       "        text-align: right;\n",
       "    }\n",
       "</style>\n",
       "<table border=\"1\" class=\"dataframe\">\n",
       "  <thead>\n",
       "    <tr style=\"text-align: right;\">\n",
       "      <th></th>\n",
       "      <th>headline</th>\n",
       "      <th>countries</th>\n",
       "      <th>cities</th>\n",
       "    </tr>\n",
       "  </thead>\n",
       "  <tbody>\n",
       "    <tr>\n",
       "      <th>100</th>\n",
       "      <td>Spreading Zika reaches Bacoor\\n</td>\n",
       "      <td>NaN</td>\n",
       "      <td>Bacoor</td>\n",
       "    </tr>\n",
       "    <tr>\n",
       "      <th>101</th>\n",
       "      <td>Can Zika make it here to Vero Beach?\\n</td>\n",
       "      <td>NaN</td>\n",
       "      <td>Can</td>\n",
       "    </tr>\n",
       "    <tr>\n",
       "      <th>102</th>\n",
       "      <td>Zika afflicts patient in Calamba\\n</td>\n",
       "      <td>NaN</td>\n",
       "      <td>Calamba</td>\n",
       "    </tr>\n",
       "    <tr>\n",
       "      <th>103</th>\n",
       "      <td>Hollywood Outbreak Film Premieres\\n</td>\n",
       "      <td>NaN</td>\n",
       "      <td>Hollywood</td>\n",
       "    </tr>\n",
       "    <tr>\n",
       "      <th>104</th>\n",
       "      <td>Petaling Jaya man ill from Zika\\n</td>\n",
       "      <td>NaN</td>\n",
       "      <td>Petaling Jaya</td>\n",
       "    </tr>\n",
       "    <tr>\n",
       "      <th>105</th>\n",
       "      <td>Malaria is Spreading in Johannesburg\\n</td>\n",
       "      <td>NaN</td>\n",
       "      <td>Johannesburg</td>\n",
       "    </tr>\n",
       "    <tr>\n",
       "      <th>106</th>\n",
       "      <td>Authorities are Worried about the Spread of No...</td>\n",
       "      <td>NaN</td>\n",
       "      <td>Buenos Aires</td>\n",
       "    </tr>\n",
       "    <tr>\n",
       "      <th>107</th>\n",
       "      <td>Guangzhou Patient in Critical Condition after ...</td>\n",
       "      <td>NaN</td>\n",
       "      <td>Guangzhou</td>\n",
       "    </tr>\n",
       "    <tr>\n",
       "      <th>108</th>\n",
       "      <td>Doral hit by Deadly Virus\\n</td>\n",
       "      <td>NaN</td>\n",
       "      <td>Doral</td>\n",
       "    </tr>\n",
       "    <tr>\n",
       "      <th>109</th>\n",
       "      <td>Tokyo Encounters Severe Symptoms of Meningitis\\n</td>\n",
       "      <td>NaN</td>\n",
       "      <td>Tokyo</td>\n",
       "    </tr>\n",
       "    <tr>\n",
       "      <th>110</th>\n",
       "      <td>Rabies Exposure in Hamilton\\n</td>\n",
       "      <td>NaN</td>\n",
       "      <td>Hamilton</td>\n",
       "    </tr>\n",
       "    <tr>\n",
       "      <th>111</th>\n",
       "      <td>Authorities are Worried about the Spread of In...</td>\n",
       "      <td>NaN</td>\n",
       "      <td>Savannah</td>\n",
       "    </tr>\n",
       "    <tr>\n",
       "      <th>112</th>\n",
       "      <td>Zika Outbreak in Hyderabad\\n</td>\n",
       "      <td>NaN</td>\n",
       "      <td>Hyderabad</td>\n",
       "    </tr>\n",
       "    <tr>\n",
       "      <th>113</th>\n",
       "      <td>Birmingham Residents Recieve Rabies vaccine\\n</td>\n",
       "      <td>NaN</td>\n",
       "      <td>Birmingham</td>\n",
       "    </tr>\n",
       "    <tr>\n",
       "      <th>114</th>\n",
       "      <td>Is Zika virus in Majuro?\\n</td>\n",
       "      <td>NaN</td>\n",
       "      <td>Majuro</td>\n",
       "    </tr>\n",
       "    <tr>\n",
       "      <th>115</th>\n",
       "      <td>Spreading Zika ruining Cancun fun\\n</td>\n",
       "      <td>NaN</td>\n",
       "      <td>Cancun</td>\n",
       "    </tr>\n",
       "    <tr>\n",
       "      <th>116</th>\n",
       "      <td>Cancun hit by Outbreak of Party Fever!\\n</td>\n",
       "      <td>NaN</td>\n",
       "      <td>Cancun</td>\n",
       "    </tr>\n",
       "    <tr>\n",
       "      <th>117</th>\n",
       "      <td>HIV has Arrived in Fairfax\\n</td>\n",
       "      <td>NaN</td>\n",
       "      <td>Fairfax</td>\n",
       "    </tr>\n",
       "    <tr>\n",
       "      <th>118</th>\n",
       "      <td>Spanish Flu Outbreak in Barcelona\\n</td>\n",
       "      <td>NaN</td>\n",
       "      <td>Barcelona</td>\n",
       "    </tr>\n",
       "    <tr>\n",
       "      <th>119</th>\n",
       "      <td>Santa Barbara tests new cure for Hepatitis C\\n</td>\n",
       "      <td>NaN</td>\n",
       "      <td>Santa Barbara</td>\n",
       "    </tr>\n",
       "    <tr>\n",
       "      <th>120</th>\n",
       "      <td>Spring break ruined by Zika in Fort Lauderdale\\n</td>\n",
       "      <td>NaN</td>\n",
       "      <td>Spring</td>\n",
       "    </tr>\n",
       "    <tr>\n",
       "      <th>121</th>\n",
       "      <td>Villavicencio under Zika threat\\n</td>\n",
       "      <td>NaN</td>\n",
       "      <td>Villavicencio</td>\n",
       "    </tr>\n",
       "    <tr>\n",
       "      <th>122</th>\n",
       "      <td>Two more Zika cases confirmed in Laredo\\n</td>\n",
       "      <td>NaN</td>\n",
       "      <td>Laredo</td>\n",
       "    </tr>\n",
       "    <tr>\n",
       "      <th>123</th>\n",
       "      <td>New Delhi Addressing Zika Concerns\\n</td>\n",
       "      <td>NaN</td>\n",
       "      <td>New Delhi</td>\n",
       "    </tr>\n",
       "    <tr>\n",
       "      <th>124</th>\n",
       "      <td>New Zika Case in Kota Kinabalu, Malaysia\\n</td>\n",
       "      <td>Malaysia</td>\n",
       "      <td>Kota Kinabalu</td>\n",
       "    </tr>\n",
       "    <tr>\n",
       "      <th>125</th>\n",
       "      <td>New medicine wipes out West Nile Virus in Vent...</td>\n",
       "      <td>NaN</td>\n",
       "      <td>Ventura</td>\n",
       "    </tr>\n",
       "    <tr>\n",
       "      <th>126</th>\n",
       "      <td>Meningitis re-emerges in Nassau\\n</td>\n",
       "      <td>NaN</td>\n",
       "      <td>Nassau</td>\n",
       "    </tr>\n",
       "    <tr>\n",
       "      <th>127</th>\n",
       "      <td>Zika reaches Johor Bahru, Malaysia\\n</td>\n",
       "      <td>Malaysia</td>\n",
       "      <td>Johor Bahru</td>\n",
       "    </tr>\n",
       "    <tr>\n",
       "      <th>128</th>\n",
       "      <td>Nha Trang Zika Outbreak\\n</td>\n",
       "      <td>NaN</td>\n",
       "      <td>Nha Trang</td>\n",
       "    </tr>\n",
       "    <tr>\n",
       "      <th>129</th>\n",
       "      <td>First Zika Case in Cincinnati\\n</td>\n",
       "      <td>NaN</td>\n",
       "      <td>Cincinnati</td>\n",
       "    </tr>\n",
       "  </tbody>\n",
       "</table>\n",
       "</div>"
      ],
      "text/plain": [
       "                                              headline countries  \\\n",
       "100                    Spreading Zika reaches Bacoor\\n       NaN   \n",
       "101             Can Zika make it here to Vero Beach?\\n       NaN   \n",
       "102                 Zika afflicts patient in Calamba\\n       NaN   \n",
       "103                Hollywood Outbreak Film Premieres\\n       NaN   \n",
       "104                  Petaling Jaya man ill from Zika\\n       NaN   \n",
       "105             Malaria is Spreading in Johannesburg\\n       NaN   \n",
       "106  Authorities are Worried about the Spread of No...       NaN   \n",
       "107  Guangzhou Patient in Critical Condition after ...       NaN   \n",
       "108                        Doral hit by Deadly Virus\\n       NaN   \n",
       "109   Tokyo Encounters Severe Symptoms of Meningitis\\n       NaN   \n",
       "110                      Rabies Exposure in Hamilton\\n       NaN   \n",
       "111  Authorities are Worried about the Spread of In...       NaN   \n",
       "112                       Zika Outbreak in Hyderabad\\n       NaN   \n",
       "113      Birmingham Residents Recieve Rabies vaccine\\n       NaN   \n",
       "114                         Is Zika virus in Majuro?\\n       NaN   \n",
       "115                Spreading Zika ruining Cancun fun\\n       NaN   \n",
       "116           Cancun hit by Outbreak of Party Fever!\\n       NaN   \n",
       "117                       HIV has Arrived in Fairfax\\n       NaN   \n",
       "118                Spanish Flu Outbreak in Barcelona\\n       NaN   \n",
       "119     Santa Barbara tests new cure for Hepatitis C\\n       NaN   \n",
       "120   Spring break ruined by Zika in Fort Lauderdale\\n       NaN   \n",
       "121                  Villavicencio under Zika threat\\n       NaN   \n",
       "122          Two more Zika cases confirmed in Laredo\\n       NaN   \n",
       "123               New Delhi Addressing Zika Concerns\\n       NaN   \n",
       "124         New Zika Case in Kota Kinabalu, Malaysia\\n  Malaysia   \n",
       "125  New medicine wipes out West Nile Virus in Vent...       NaN   \n",
       "126                  Meningitis re-emerges in Nassau\\n       NaN   \n",
       "127               Zika reaches Johor Bahru, Malaysia\\n  Malaysia   \n",
       "128                          Nha Trang Zika Outbreak\\n       NaN   \n",
       "129                    First Zika Case in Cincinnati\\n       NaN   \n",
       "\n",
       "            cities  \n",
       "100         Bacoor  \n",
       "101            Can  \n",
       "102        Calamba  \n",
       "103      Hollywood  \n",
       "104  Petaling Jaya  \n",
       "105   Johannesburg  \n",
       "106   Buenos Aires  \n",
       "107      Guangzhou  \n",
       "108          Doral  \n",
       "109          Tokyo  \n",
       "110       Hamilton  \n",
       "111       Savannah  \n",
       "112      Hyderabad  \n",
       "113     Birmingham  \n",
       "114         Majuro  \n",
       "115         Cancun  \n",
       "116         Cancun  \n",
       "117        Fairfax  \n",
       "118      Barcelona  \n",
       "119  Santa Barbara  \n",
       "120         Spring  \n",
       "121  Villavicencio  \n",
       "122         Laredo  \n",
       "123      New Delhi  \n",
       "124  Kota Kinabalu  \n",
       "125        Ventura  \n",
       "126         Nassau  \n",
       "127    Johor Bahru  \n",
       "128      Nha Trang  \n",
       "129     Cincinnati  "
      ]
     },
     "execution_count": 14,
     "metadata": {},
     "output_type": "execute_result"
    }
   ],
   "source": [
    "import pandas as pd\n",
    "data = pd.read_json (r'headline_cities_and_countries.json')\n",
    "data = data.replace({None: np.nan})\n",
    "data[100:130]"
   ]
  },
  {
   "cell_type": "code",
   "execution_count": null,
   "id": "30d5fc0d",
   "metadata": {},
   "outputs": [],
   "source": []
  }
 ],
 "metadata": {
  "kernelspec": {
   "display_name": "Python 3",
   "language": "python",
   "name": "python3"
  },
  "language_info": {
   "codemirror_mode": {
    "name": "ipython",
    "version": 3
   },
   "file_extension": ".py",
   "mimetype": "text/x-python",
   "name": "python",
   "nbconvert_exporter": "python",
   "pygments_lexer": "ipython3",
   "version": "3.8.8"
  }
 },
 "nbformat": 4,
 "nbformat_minor": 5
}
